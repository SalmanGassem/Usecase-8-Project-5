{
 "cells": [
  {
   "cell_type": "markdown",
   "id": "8574a188-be14-4a03-acf0-a05d1b4978e5",
   "metadata": {},
   "source": [
    "# Import Libraries"
   ]
  },
  {
   "cell_type": "code",
   "execution_count": 402,
   "id": "d5f10134-84f3-4c8d-bf36-6f709d5bfbff",
   "metadata": {},
   "outputs": [],
   "source": [
    "import warnings\n",
    "warnings.filterwarnings(\"ignore\")\n",
    "import pandas as pd\n",
    "import numpy as np\n",
    "import matplotlib.pyplot as plt\n",
    "import seaborn as sns\n",
    "import plotly.express as px\n",
    "\n",
    "from sklearn.preprocessing import StandardScaler\n",
    "from sklearn.cluster import KMeans\n",
    "from sklearn.preprocessing import LabelEncoder, MinMaxScaler\n",
    "from sklearn import metrics\n",
    "from sklearn.metrics import silhouette_score, davies_bouldin_score\n"
   ]
  },
  {
   "cell_type": "markdown",
   "id": "8b7178de-a75f-4820-a7f0-adc493777281",
   "metadata": {},
   "source": [
    "# Load the Data"
   ]
  },
  {
   "cell_type": "code",
   "execution_count": 403,
   "id": "89ebf690-8faf-47e9-913b-e6a5172d66ed",
   "metadata": {},
   "outputs": [],
   "source": [
    "# Load the data\n",
    "df = pd.read_csv(\"cleaned_coursera_dataset.csv\")"
   ]
  },
  {
   "cell_type": "code",
   "execution_count": 404,
   "id": "10dd7b86",
   "metadata": {},
   "outputs": [
    {
     "data": {
      "text/html": [
       "<div>\n",
       "<style scoped>\n",
       "    .dataframe tbody tr th:only-of-type {\n",
       "        vertical-align: middle;\n",
       "    }\n",
       "\n",
       "    .dataframe tbody tr th {\n",
       "        vertical-align: top;\n",
       "    }\n",
       "\n",
       "    .dataframe thead th {\n",
       "        text-align: right;\n",
       "    }\n",
       "</style>\n",
       "<table border=\"1\" class=\"dataframe\">\n",
       "  <thead>\n",
       "    <tr style=\"text-align: right;\">\n",
       "      <th></th>\n",
       "      <th>Course Title</th>\n",
       "      <th>Rating</th>\n",
       "      <th>Provider</th>\n",
       "      <th>Level</th>\n",
       "      <th>Reviews</th>\n",
       "      <th>Type</th>\n",
       "      <th>Duration / Weeks</th>\n",
       "    </tr>\n",
       "  </thead>\n",
       "  <tbody>\n",
       "  </tbody>\n",
       "</table>\n",
       "</div>"
      ],
      "text/plain": [
       "Empty DataFrame\n",
       "Columns: [Course Title, Rating, Provider, Level, Reviews, Type, Duration / Weeks]\n",
       "Index: []"
      ]
     },
     "execution_count": 404,
     "metadata": {},
     "output_type": "execute_result"
    }
   ],
   "source": [
    "df.head(0)"
   ]
  },
  {
   "cell_type": "code",
   "execution_count": 405,
   "id": "ecaf572c-792d-4152-9459-91ece81d5e55",
   "metadata": {},
   "outputs": [],
   "source": [
    "df.drop('Course Title', axis=1, inplace=True)"
   ]
  },
  {
   "cell_type": "code",
   "execution_count": 406,
   "id": "0d370e7c",
   "metadata": {},
   "outputs": [],
   "source": [
    "df.rename(columns={'Duration / Weeks': 'duration_weeks', 'Type': 'course_type'}, inplace=True)"
   ]
  },
  {
   "cell_type": "code",
   "execution_count": 407,
   "id": "07ff46b4",
   "metadata": {},
   "outputs": [],
   "source": [
    "df.rename(columns={'type': 'course_type'}, inplace=True)"
   ]
  },
  {
   "cell_type": "code",
   "execution_count": 408,
   "id": "71666592",
   "metadata": {},
   "outputs": [],
   "source": [
    "df.columns = df.columns.str.lower()"
   ]
  },
  {
   "cell_type": "code",
   "execution_count": 409,
   "id": "b54edb17",
   "metadata": {},
   "outputs": [
    {
     "data": {
      "text/html": [
       "<div>\n",
       "<style scoped>\n",
       "    .dataframe tbody tr th:only-of-type {\n",
       "        vertical-align: middle;\n",
       "    }\n",
       "\n",
       "    .dataframe tbody tr th {\n",
       "        vertical-align: top;\n",
       "    }\n",
       "\n",
       "    .dataframe thead th {\n",
       "        text-align: right;\n",
       "    }\n",
       "</style>\n",
       "<table border=\"1\" class=\"dataframe\">\n",
       "  <thead>\n",
       "    <tr style=\"text-align: right;\">\n",
       "      <th></th>\n",
       "      <th>rating</th>\n",
       "      <th>provider</th>\n",
       "      <th>level</th>\n",
       "      <th>reviews</th>\n",
       "      <th>course_type</th>\n",
       "      <th>duration_weeks</th>\n",
       "    </tr>\n",
       "  </thead>\n",
       "  <tbody>\n",
       "    <tr>\n",
       "      <th>0</th>\n",
       "      <td>4.8</td>\n",
       "      <td>Google</td>\n",
       "      <td>Beginner</td>\n",
       "      <td>151000.0</td>\n",
       "      <td>Professional Certificate</td>\n",
       "      <td>12 - 24</td>\n",
       "    </tr>\n",
       "    <tr>\n",
       "      <th>1</th>\n",
       "      <td>4.8</td>\n",
       "      <td>Google</td>\n",
       "      <td>Beginner</td>\n",
       "      <td>35000.0</td>\n",
       "      <td>Professional Certificate</td>\n",
       "      <td>12 - 24</td>\n",
       "    </tr>\n",
       "    <tr>\n",
       "      <th>2</th>\n",
       "      <td>4.8</td>\n",
       "      <td>Google</td>\n",
       "      <td>Beginner</td>\n",
       "      <td>112000.0</td>\n",
       "      <td>Professional Certificate</td>\n",
       "      <td>12 - 24</td>\n",
       "    </tr>\n",
       "    <tr>\n",
       "      <th>3</th>\n",
       "      <td>4.8</td>\n",
       "      <td>Google</td>\n",
       "      <td>Beginner</td>\n",
       "      <td>30000.0</td>\n",
       "      <td>Professional Certificate</td>\n",
       "      <td>12 - 24</td>\n",
       "    </tr>\n",
       "    <tr>\n",
       "      <th>4</th>\n",
       "      <td>4.8</td>\n",
       "      <td>Google</td>\n",
       "      <td>Beginner</td>\n",
       "      <td>83000.0</td>\n",
       "      <td>Professional Certificate</td>\n",
       "      <td>12 - 24</td>\n",
       "    </tr>\n",
       "    <tr>\n",
       "      <th>...</th>\n",
       "      <td>...</td>\n",
       "      <td>...</td>\n",
       "      <td>...</td>\n",
       "      <td>...</td>\n",
       "      <td>...</td>\n",
       "      <td>...</td>\n",
       "    </tr>\n",
       "    <tr>\n",
       "      <th>4299</th>\n",
       "      <td>3.9</td>\n",
       "      <td>LearnQuest</td>\n",
       "      <td>Beginner</td>\n",
       "      <td>32.0</td>\n",
       "      <td>Course</td>\n",
       "      <td>1 - 4</td>\n",
       "    </tr>\n",
       "    <tr>\n",
       "      <th>4300</th>\n",
       "      <td>4.8</td>\n",
       "      <td>Autodesk</td>\n",
       "      <td>Intermediate</td>\n",
       "      <td>88.0</td>\n",
       "      <td>Course</td>\n",
       "      <td>1 - 4</td>\n",
       "    </tr>\n",
       "    <tr>\n",
       "      <th>4301</th>\n",
       "      <td>4.4</td>\n",
       "      <td>Digital Marketing Institute</td>\n",
       "      <td>Beginner</td>\n",
       "      <td>62.0</td>\n",
       "      <td>Course</td>\n",
       "      <td>1 - 4</td>\n",
       "    </tr>\n",
       "    <tr>\n",
       "      <th>4302</th>\n",
       "      <td>3.5</td>\n",
       "      <td>Board Infinity</td>\n",
       "      <td>Intermediate</td>\n",
       "      <td>6.0</td>\n",
       "      <td>Course</td>\n",
       "      <td>1 - 4</td>\n",
       "    </tr>\n",
       "    <tr>\n",
       "      <th>4303</th>\n",
       "      <td>4.1</td>\n",
       "      <td>Board Infinity</td>\n",
       "      <td>Intermediate</td>\n",
       "      <td>9.0</td>\n",
       "      <td>Course</td>\n",
       "      <td>1 - 4</td>\n",
       "    </tr>\n",
       "  </tbody>\n",
       "</table>\n",
       "<p>4304 rows × 6 columns</p>\n",
       "</div>"
      ],
      "text/plain": [
       "      rating                     provider         level   reviews  \\\n",
       "0        4.8                       Google      Beginner  151000.0   \n",
       "1        4.8                       Google      Beginner   35000.0   \n",
       "2        4.8                       Google      Beginner  112000.0   \n",
       "3        4.8                       Google      Beginner   30000.0   \n",
       "4        4.8                       Google      Beginner   83000.0   \n",
       "...      ...                          ...           ...       ...   \n",
       "4299     3.9                   LearnQuest      Beginner      32.0   \n",
       "4300     4.8                     Autodesk  Intermediate      88.0   \n",
       "4301     4.4  Digital Marketing Institute      Beginner      62.0   \n",
       "4302     3.5               Board Infinity  Intermediate       6.0   \n",
       "4303     4.1               Board Infinity  Intermediate       9.0   \n",
       "\n",
       "                   course_type duration_weeks  \n",
       "0     Professional Certificate        12 - 24  \n",
       "1     Professional Certificate        12 - 24  \n",
       "2     Professional Certificate        12 - 24  \n",
       "3     Professional Certificate        12 - 24  \n",
       "4     Professional Certificate        12 - 24  \n",
       "...                        ...            ...  \n",
       "4299                    Course          1 - 4  \n",
       "4300                    Course          1 - 4  \n",
       "4301                    Course          1 - 4  \n",
       "4302                    Course          1 - 4  \n",
       "4303                    Course          1 - 4  \n",
       "\n",
       "[4304 rows x 6 columns]"
      ]
     },
     "execution_count": 409,
     "metadata": {},
     "output_type": "execute_result"
    }
   ],
   "source": [
    "df"
   ]
  },
  {
   "cell_type": "code",
   "execution_count": 410,
   "id": "07a1bec0",
   "metadata": {},
   "outputs": [
    {
     "data": {
      "text/plain": [
       "rating            float64\n",
       "provider           object\n",
       "level              object\n",
       "reviews           float64\n",
       "course_type        object\n",
       "duration_weeks     object\n",
       "dtype: object"
      ]
     },
     "execution_count": 410,
     "metadata": {},
     "output_type": "execute_result"
    }
   ],
   "source": [
    "df.dtypes"
   ]
  },
  {
   "cell_type": "code",
   "execution_count": 411,
   "id": "51bab8d3",
   "metadata": {},
   "outputs": [
    {
     "data": {
      "text/html": [
       "<div>\n",
       "<style scoped>\n",
       "    .dataframe tbody tr th:only-of-type {\n",
       "        vertical-align: middle;\n",
       "    }\n",
       "\n",
       "    .dataframe tbody tr th {\n",
       "        vertical-align: top;\n",
       "    }\n",
       "\n",
       "    .dataframe thead th {\n",
       "        text-align: right;\n",
       "    }\n",
       "</style>\n",
       "<table border=\"1\" class=\"dataframe\">\n",
       "  <thead>\n",
       "    <tr style=\"text-align: right;\">\n",
       "      <th></th>\n",
       "      <th>rating</th>\n",
       "      <th>provider</th>\n",
       "      <th>level</th>\n",
       "      <th>reviews</th>\n",
       "      <th>course_type</th>\n",
       "      <th>duration_weeks</th>\n",
       "    </tr>\n",
       "  </thead>\n",
       "  <tbody>\n",
       "    <tr>\n",
       "      <th>0</th>\n",
       "      <td>4.8</td>\n",
       "      <td>Google</td>\n",
       "      <td>Beginner</td>\n",
       "      <td>151000.0</td>\n",
       "      <td>Professional Certificate</td>\n",
       "      <td>18.0</td>\n",
       "    </tr>\n",
       "    <tr>\n",
       "      <th>1</th>\n",
       "      <td>4.8</td>\n",
       "      <td>Google</td>\n",
       "      <td>Beginner</td>\n",
       "      <td>35000.0</td>\n",
       "      <td>Professional Certificate</td>\n",
       "      <td>18.0</td>\n",
       "    </tr>\n",
       "    <tr>\n",
       "      <th>2</th>\n",
       "      <td>4.8</td>\n",
       "      <td>Google</td>\n",
       "      <td>Beginner</td>\n",
       "      <td>112000.0</td>\n",
       "      <td>Professional Certificate</td>\n",
       "      <td>18.0</td>\n",
       "    </tr>\n",
       "    <tr>\n",
       "      <th>3</th>\n",
       "      <td>4.8</td>\n",
       "      <td>Google</td>\n",
       "      <td>Beginner</td>\n",
       "      <td>30000.0</td>\n",
       "      <td>Professional Certificate</td>\n",
       "      <td>18.0</td>\n",
       "    </tr>\n",
       "    <tr>\n",
       "      <th>4</th>\n",
       "      <td>4.8</td>\n",
       "      <td>Google</td>\n",
       "      <td>Beginner</td>\n",
       "      <td>83000.0</td>\n",
       "      <td>Professional Certificate</td>\n",
       "      <td>18.0</td>\n",
       "    </tr>\n",
       "  </tbody>\n",
       "</table>\n",
       "</div>"
      ],
      "text/plain": [
       "   rating provider     level   reviews               course_type  \\\n",
       "0     4.8   Google  Beginner  151000.0  Professional Certificate   \n",
       "1     4.8   Google  Beginner   35000.0  Professional Certificate   \n",
       "2     4.8   Google  Beginner  112000.0  Professional Certificate   \n",
       "3     4.8   Google  Beginner   30000.0  Professional Certificate   \n",
       "4     4.8   Google  Beginner   83000.0  Professional Certificate   \n",
       "\n",
       "   duration_weeks  \n",
       "0            18.0  \n",
       "1            18.0  \n",
       "2            18.0  \n",
       "3            18.0  \n",
       "4            18.0  "
      ]
     },
     "execution_count": 411,
     "metadata": {},
     "output_type": "execute_result"
    }
   ],
   "source": [
    "# Extracting the duration in weeks\n",
    "# Assuming that the duration is given as a range \"min - max\", we'll take the average of the range\n",
    "def extract_weeks(duration):\n",
    "    try:\n",
    "        weeks = duration.split(\" - \")\n",
    "        if len(weeks) == 2:\n",
    "            return (int(weeks[0]) + int(weeks[1])) / 2\n",
    "        else:\n",
    "            return int(weeks[0])\n",
    "    except:\n",
    "        return None\n",
    "\n",
    "df['duration_weeks'] = df['duration_weeks'].apply(extract_weeks)\n",
    "\n",
    "df.head()"
   ]
  },
  {
   "cell_type": "markdown",
   "id": "85162854",
   "metadata": {},
   "source": [
    "# Feature Selection"
   ]
  },
  {
   "cell_type": "code",
   "execution_count": 412,
   "id": "8fac6272",
   "metadata": {},
   "outputs": [],
   "source": [
    "numerical_features = df.select_dtypes(include=['number']).columns"
   ]
  },
  {
   "cell_type": "code",
   "execution_count": 413,
   "id": "c71b755b",
   "metadata": {},
   "outputs": [
    {
     "data": {
      "text/html": [
       "<div>\n",
       "<style scoped>\n",
       "    .dataframe tbody tr th:only-of-type {\n",
       "        vertical-align: middle;\n",
       "    }\n",
       "\n",
       "    .dataframe tbody tr th {\n",
       "        vertical-align: top;\n",
       "    }\n",
       "\n",
       "    .dataframe thead th {\n",
       "        text-align: right;\n",
       "    }\n",
       "</style>\n",
       "<table border=\"1\" class=\"dataframe\">\n",
       "  <thead>\n",
       "    <tr style=\"text-align: right;\">\n",
       "      <th></th>\n",
       "      <th>rating</th>\n",
       "      <th>reviews</th>\n",
       "      <th>duration_weeks</th>\n",
       "    </tr>\n",
       "  </thead>\n",
       "  <tbody>\n",
       "    <tr>\n",
       "      <th>0</th>\n",
       "      <td>4.8</td>\n",
       "      <td>151000.0</td>\n",
       "      <td>18.0</td>\n",
       "    </tr>\n",
       "    <tr>\n",
       "      <th>1</th>\n",
       "      <td>4.8</td>\n",
       "      <td>35000.0</td>\n",
       "      <td>18.0</td>\n",
       "    </tr>\n",
       "    <tr>\n",
       "      <th>2</th>\n",
       "      <td>4.8</td>\n",
       "      <td>112000.0</td>\n",
       "      <td>18.0</td>\n",
       "    </tr>\n",
       "    <tr>\n",
       "      <th>3</th>\n",
       "      <td>4.8</td>\n",
       "      <td>30000.0</td>\n",
       "      <td>18.0</td>\n",
       "    </tr>\n",
       "    <tr>\n",
       "      <th>4</th>\n",
       "      <td>4.8</td>\n",
       "      <td>83000.0</td>\n",
       "      <td>18.0</td>\n",
       "    </tr>\n",
       "  </tbody>\n",
       "</table>\n",
       "</div>"
      ],
      "text/plain": [
       "   rating   reviews  duration_weeks\n",
       "0     4.8  151000.0            18.0\n",
       "1     4.8   35000.0            18.0\n",
       "2     4.8  112000.0            18.0\n",
       "3     4.8   30000.0            18.0\n",
       "4     4.8   83000.0            18.0"
      ]
     },
     "execution_count": 413,
     "metadata": {},
     "output_type": "execute_result"
    }
   ],
   "source": [
    "selected_columns = ['rating', 'reviews', 'duration_weeks']\n",
    "data_clean = df[selected_columns].dropna()\n",
    "data_clean.head()"
   ]
  },
  {
   "cell_type": "code",
   "execution_count": 414,
   "id": "9facf0c6",
   "metadata": {},
   "outputs": [
    {
     "data": {
      "text/plain": [
       "(4304, 3)"
      ]
     },
     "execution_count": 414,
     "metadata": {},
     "output_type": "execute_result"
    }
   ],
   "source": [
    "data_clean.shape"
   ]
  },
  {
   "cell_type": "markdown",
   "id": "63592d74-ab6a-4585-b8ea-e2f64c16951b",
   "metadata": {},
   "source": [
    "# Preprocessing the Data"
   ]
  },
  {
   "cell_type": "code",
   "execution_count": 415,
   "id": "cfd34788-08aa-4ad9-a1ea-444c9021eeee",
   "metadata": {},
   "outputs": [
    {
     "data": {
      "text/plain": [
       "Index(['provider', 'level', 'course_type'], dtype='object')"
      ]
     },
     "execution_count": 415,
     "metadata": {},
     "output_type": "execute_result"
    }
   ],
   "source": [
    "categorical_features = df.select_dtypes(include=['object']).columns\n",
    "categorical_features"
   ]
  },
  {
   "cell_type": "markdown",
   "id": "24d01615-4a01-49b7-91c5-f3e4b5450ea5",
   "metadata": {},
   "source": [
    "##  Encoding"
   ]
  },
  {
   "cell_type": "code",
   "execution_count": 416,
   "id": "776371e8",
   "metadata": {},
   "outputs": [],
   "source": [
    "# creating the train data, a copy of the original\n",
    "df_train = data_clean.copy()"
   ]
  },
  {
   "cell_type": "code",
   "execution_count": 417,
   "id": "48fa6364",
   "metadata": {},
   "outputs": [
    {
     "data": {
      "text/plain": [
       "rating            float64\n",
       "reviews           float64\n",
       "duration_weeks    float64\n",
       "dtype: object"
      ]
     },
     "execution_count": 417,
     "metadata": {},
     "output_type": "execute_result"
    }
   ],
   "source": [
    "df_train.dtypes"
   ]
  },
  {
   "cell_type": "code",
   "execution_count": 418,
   "id": "d243a248-0952-41d8-b12a-fec9d082565a",
   "metadata": {},
   "outputs": [],
   "source": [
    "# Saving the categorical features in a list\n",
    "categorical_features = df_train.select_dtypes(include=['object']).columns"
   ]
  },
  {
   "cell_type": "code",
   "execution_count": 419,
   "id": "8def1172",
   "metadata": {},
   "outputs": [
    {
     "data": {
      "text/plain": [
       "Index([], dtype='object')"
      ]
     },
     "execution_count": 419,
     "metadata": {},
     "output_type": "execute_result"
    }
   ],
   "source": [
    "categorical_features"
   ]
  },
  {
   "cell_type": "code",
   "execution_count": 420,
   "id": "b58fab2c",
   "metadata": {},
   "outputs": [],
   "source": [
    "scaler = MinMaxScaler()\n",
    "scaler.fit(df_train)\n",
    "df_scaled = scaler.transform(df_train)"
   ]
  },
  {
   "cell_type": "markdown",
   "id": "16e76dbe",
   "metadata": {},
   "source": [
    "# Building and Training the model"
   ]
  },
  {
   "cell_type": "code",
   "execution_count": 421,
   "id": "db123c57-f9ab-4675-b34a-95c44033c044",
   "metadata": {},
   "outputs": [],
   "source": [
    "wcss = []\n",
    "for i in range(2, 20):  \n",
    "    kmeans = KMeans(n_clusters=i,\n",
    "                    init='k-means++',\n",
    "                    max_iter=300,\n",
    "                    n_init=10,\n",
    "                    random_state=0)\n",
    "    kmeans.fit(df_scaled)\n",
    "    wcss.append(kmeans.inertia_)"
   ]
  },
  {
   "cell_type": "code",
   "execution_count": 422,
   "id": "315dff3b-47b9-49c6-81f6-5dd4b235e287",
   "metadata": {},
   "outputs": [
    {
     "data": {
      "image/png": "[encoded data removed]",
      "text/plain": [
       "<Figure size 1000x600 with 1 Axes>"
      ]
     },
     "metadata": {},
     "output_type": "display_data"
    }
   ],
   "source": [
    "plt.figure(figsize=(10, 6))\n",
    "plt.plot(range(2, 20), wcss,  marker='o', linestyle='-', color='b')\n",
    "plt.title('Elbow Method')\n",
    "plt.xlabel('Number of clusters')\n",
    "plt.ylabel('WCSS')\n",
    "plt.grid(True)\n",
    "plt.show()"
   ]
  },
  {
   "cell_type": "code",
   "execution_count": 423,
   "id": "5b14e0d6-0900-44e6-a64a-c1f4a4a95438",
   "metadata": {},
   "outputs": [],
   "source": [
    "# Building the KMeans Model\n",
    "optimal_clusters = 3\n",
    "\n",
    "# Initialize and train the KMeans model\n",
    "best_kmeans = KMeans(n_clusters=optimal_clusters, init='k-means++', max_iter=300, n_init=10, random_state=42)\n"
   ]
  },
  {
   "cell_type": "code",
   "execution_count": 424,
   "id": "6cccc20f",
   "metadata": {},
   "outputs": [],
   "source": [
    "# predict\n",
    "x_kmeans = best_kmeans.fit_predict(df_scaled)"
   ]
  },
  {
   "cell_type": "markdown",
   "id": "732da4b5-16e9-40e6-ae87-51568cc966ae",
   "metadata": {},
   "source": [
    "# evaluate model"
   ]
  },
  {
   "cell_type": "code",
   "execution_count": 425,
   "id": "0a9bdc46",
   "metadata": {},
   "outputs": [
    {
     "name": "stdout",
     "output_type": "stream",
     "text": [
      "Silhouette Score: 0.7520316366501715\n",
      "Davies-Bouldin Index: 0.35567862794312005\n"
     ]
    }
   ],
   "source": [
    "# Calculate the silhouette score, closer to 1 is better\n",
    "silhouette_avg = silhouette_score(df_scaled, best_kmeans.labels_)\n",
    "\n",
    "# Davies-Bouldin Index to evaluate clustering quality.\n",
    "# Lower values indicate better separation between the clusters.\n",
    "db_index = davies_bouldin_score(df_scaled, best_kmeans.labels_)\n",
    "\n",
    "print(\"Silhouette Score:\", silhouette_avg)\n",
    "print(\"Davies-Bouldin Index:\", db_index)\n"
   ]
  },
  {
   "cell_type": "code",
   "execution_count": 426,
   "id": "a0ae7c2b",
   "metadata": {},
   "outputs": [
    {
     "name": "stdout",
     "output_type": "stream",
     "text": [
      "Inertia: 56.28309249145437\n"
     ]
    }
   ],
   "source": [
    "inertia = best_kmeans.inertia_\n",
    "print(\"Inertia:\", inertia)\n"
   ]
  },
  {
   "cell_type": "code",
   "execution_count": 427,
   "id": "81a62205",
   "metadata": {},
   "outputs": [
    {
     "data": {
      "text/plain": [
       "Index(['rating', 'reviews', 'duration_weeks'], dtype='object')"
      ]
     },
     "execution_count": 427,
     "metadata": {},
     "output_type": "execute_result"
    }
   ],
   "source": [
    "df_train.columns"
   ]
  },
  {
   "cell_type": "code",
   "execution_count": 428,
   "id": "3c07f2ca",
   "metadata": {},
   "outputs": [
    {
     "data": {
      "image/png": "[encoded data removed]",
      "text/plain": [
       "<Figure size 640x480 with 1 Axes>"
      ]
     },
     "metadata": {},
     "output_type": "display_data"
    }
   ],
   "source": [
    "plt.scatter(df_scaled[:, 2], df_scaled[:, 1], c=best_kmeans.labels_, cmap='rainbow')\n",
    "plt.scatter(best_kmeans.cluster_centers_[:, 2], best_kmeans.cluster_centers_[:, 1], s=200, c='black', marker='X')\n",
    "plt.title('K-Means Clustering')\n",
    "plt.xlabel('duration_weeks')\n",
    "plt.ylabel('Number of Reviews')\n",
    "plt.show()\n"
   ]
  },
  {
   "cell_type": "code",
   "execution_count": 429,
   "id": "f6630db0",
   "metadata": {},
   "outputs": [
    {
     "data": {
      "image/png": "[encoded data removed]",
      "text/plain": [
       "<Figure size 700x700 with 1 Axes>"
      ]
     },
     "metadata": {},
     "output_type": "display_data"
    }
   ],
   "source": [
    "from sklearn.metrics import silhouette_samples, silhouette_score\n",
    "\n",
    "sample_silhouette_values = silhouette_samples(df_train, best_kmeans.labels_)\n",
    "\n",
    "y_lower = 10\n",
    "fig, ax1 = plt.subplots(1, 1)\n",
    "fig.set_size_inches(7, 7)\n",
    "\n",
    "ax1.set_xlim([-0.1, 0.1])\n",
    "ax1.set_ylim([0, len(df_train) + (optimal_clusters + 1) * 10])\n",
    "\n",
    "for i in range(optimal_clusters):\n",
    "    ith_cluster_silhouette_values = sample_silhouette_values[best_kmeans.labels_ == i]\n",
    "    ith_cluster_silhouette_values.sort()\n",
    "\n",
    "    size_cluster_i = ith_cluster_silhouette_values.shape[0]\n",
    "    y_upper = y_lower + size_cluster_i\n",
    "\n",
    "    color = plt.cm.nipy_spectral(float(i) / optimal_clusters)\n",
    "    ax1.fill_betweenx(np.arange(y_lower, y_upper), 0, ith_cluster_silhouette_values,\n",
    "                      facecolor=color, edgecolor=color, alpha=0.7)\n",
    "\n",
    "    ax1.text(-0.05, y_lower + 0.5 * size_cluster_i, str(i))\n",
    "\n",
    "    y_lower = y_upper + 10\n",
    "\n",
    "ax1.set_title(\"Silhouette plot for the various clusters\")\n",
    "ax1.set_xlabel(\"Silhouette coefficient values\")\n",
    "ax1.set_ylabel(\"Cluster label\")\n",
    "\n",
    "# ax1.axvline(x=silhouette_avg, color=\"red\", linestyle=\"--\")\n",
    "# ax1.set_yticks([])  # Clear the yaxis labels / ticks\n",
    "ax1.set_xticks(np.arange(-0.1,  0.2))\n",
    "\n",
    "plt.show()"
   ]
  },
  {
   "cell_type": "markdown",
   "id": "7c364d02",
   "metadata": {},
   "source": [
    "# Predictions"
   ]
  },
  {
   "cell_type": "code",
   "execution_count": 430,
   "id": "d1516ce3",
   "metadata": {},
   "outputs": [
    {
     "data": {
      "text/plain": [
       "Index(['rating', 'reviews', 'duration_weeks'], dtype='object')"
      ]
     },
     "execution_count": 430,
     "metadata": {},
     "output_type": "execute_result"
    }
   ],
   "source": [
    "df_train.columns"
   ]
  },
  {
   "cell_type": "markdown",
   "id": "4ec20c42",
   "metadata": {},
   "source": [
    "- level: {'Advanced': 0, 'Beginner': 1, 'Intermediate': 2, 'Mixed': 3}\n",
    "- course_type: {'Course': 0, 'Professional Certificate': 1, 'Specialization': 2}\n",
    "- duration_weeks: {'1 - 4': 0, '12 - 24': 1, '4 - 12': 2}"
   ]
  },
  {
   "cell_type": "code",
   "execution_count": 431,
   "id": "c11aafe1",
   "metadata": {},
   "outputs": [
    {
     "name": "stdout",
     "output_type": "stream",
     "text": [
      "Predicted clusters for new data: [1]\n"
     ]
    }
   ],
   "source": [
    "rating = 5\n",
    "reviews = 40000\n",
    "duration = 1\n",
    "\n",
    "new_data = [[rating, reviews, duration]]  # Replace with your new data points\n",
    "predictions = best_kmeans.predict(new_data)\n",
    "print(\"Predicted clusters for new data:\", predictions)\n"
   ]
  },
  {
   "cell_type": "markdown",
   "id": "9a844564-73ff-403e-b977-ba65a99b1cc9",
   "metadata": {},
   "source": [
    "# Clusters Distribution"
   ]
  },
  {
   "cell_type": "code",
   "execution_count": 432,
   "id": "4fe7a63e",
   "metadata": {},
   "outputs": [],
   "source": [
    "df_train['Cluster'] = best_kmeans.labels_"
   ]
  },
  {
   "cell_type": "code",
   "execution_count": 433,
   "id": "951e0ae7",
   "metadata": {},
   "outputs": [],
   "source": [
    "cluster_0 = df[df_train['Cluster'] == 0]\n",
    "cluster_1 = df[df_train['Cluster'] == 1]\n",
    "cluster_2 = df[df_train['Cluster'] == 2]"
   ]
  },
  {
   "cell_type": "code",
   "execution_count": 434,
   "id": "d9fd683c",
   "metadata": {},
   "outputs": [
    {
     "data": {
      "text/plain": [
       "(1653, 6)"
      ]
     },
     "execution_count": 434,
     "metadata": {},
     "output_type": "execute_result"
    }
   ],
   "source": [
    "cluster_0.shape"
   ]
  },
  {
   "cell_type": "code",
   "execution_count": 435,
   "id": "16270b67",
   "metadata": {},
   "outputs": [
    {
     "data": {
      "text/plain": [
       "(724, 6)"
      ]
     },
     "execution_count": 435,
     "metadata": {},
     "output_type": "execute_result"
    }
   ],
   "source": [
    "cluster_1.shape"
   ]
  },
  {
   "cell_type": "code",
   "execution_count": 436,
   "id": "466319c2",
   "metadata": {},
   "outputs": [
    {
     "data": {
      "text/plain": [
       "(1927, 6)"
      ]
     },
     "execution_count": 436,
     "metadata": {},
     "output_type": "execute_result"
    }
   ],
   "source": [
    "cluster_2.shape"
   ]
  },
  {
   "cell_type": "code",
   "execution_count": 437,
   "id": "a8f1f839",
   "metadata": {},
   "outputs": [
    {
     "data": {
      "text/plain": [
       "1534.6388384754991"
      ]
     },
     "execution_count": 437,
     "metadata": {},
     "output_type": "execute_result"
    }
   ],
   "source": [
    "cluster_0['reviews'].mean()"
   ]
  },
  {
   "cell_type": "code",
   "execution_count": 438,
   "id": "4d5f45b2",
   "metadata": {},
   "outputs": [
    {
     "data": {
      "text/plain": [
       "1791.813700051894"
      ]
     },
     "execution_count": 438,
     "metadata": {},
     "output_type": "execute_result"
    }
   ],
   "source": [
    "cluster_2['reviews'].mean()"
   ]
  },
  {
   "cell_type": "code",
   "execution_count": 439,
   "id": "c7f89a45",
   "metadata": {},
   "outputs": [
    {
     "data": {
      "text/plain": [
       "6588.013812154696"
      ]
     },
     "execution_count": 439,
     "metadata": {},
     "output_type": "execute_result"
    }
   ],
   "source": [
    "cluster_1['reviews'].mean()"
   ]
  },
  {
   "cell_type": "markdown",
   "id": "96ae41d3",
   "metadata": {},
   "source": [
    "- Cluster 0 = low\n",
    "- Cluster 2 = medium\n",
    "- Cluster 1 = high"
   ]
  },
  {
   "cell_type": "code",
   "execution_count": 440,
   "id": "d57a9be7",
   "metadata": {},
   "outputs": [
    {
     "data": {
      "text/plain": [
       "['kmens_scaler.joblib']"
      ]
     },
     "execution_count": 440,
     "metadata": {},
     "output_type": "execute_result"
    }
   ],
   "source": [
    "import joblib\n",
    "joblib.dump(best_kmeans, 'kmens_model.joblib')\n",
    "joblib.dump(scaler, 'kmens_scaler.joblib')"
   ]
  }
 ],
 "metadata": {
  "kernelspec": {
   "display_name": "Python 3 (ipykernel)",
   "language": "python",
   "name": "python3"
  },
  "language_info": {
   "codemirror_mode": {
    "name": "ipython",
    "version": 3
   },
   "file_extension": ".py",
   "mimetype": "text/x-python",
   "name": "python",
   "nbconvert_exporter": "python",
   "pygments_lexer": "ipython3",
   "version": "3.11.5"
  }
 },
 "nbformat": 4,
 "nbformat_minor": 5
}
