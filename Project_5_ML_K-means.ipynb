{
 "cells": [
  {
   "cell_type": "markdown",
   "id": "8574a188-be14-4a03-acf0-a05d1b4978e5",
   "metadata": {},
   "source": [
    "# Import Libraries"
   ]
  },
  {
   "cell_type": "code",
   "execution_count": 1,
   "id": "d5f10134-84f3-4c8d-bf36-6f709d5bfbff",
   "metadata": {},
   "outputs": [],
   "source": [
    "import warnings\n",
    "warnings.filterwarnings(\"ignore\")\n",
    "import pandas as pd\n",
    "import numpy as np\n",
    "import matplotlib.pyplot as plt\n",
    "import seaborn as sns\n",
    "import plotly.express as px\n",
    "\n",
    "from sklearn.preprocessing import StandardScaler\n",
    "from sklearn.cluster import KMeans\n",
    "from sklearn.preprocessing import LabelEncoder, MinMaxScaler\n",
    "from sklearn import metrics\n",
    "from sklearn.metrics import silhouette_score, davies_bouldin_score\n"
   ]
  },
  {
   "cell_type": "markdown",
   "id": "8b7178de-a75f-4820-a7f0-adc493777281",
   "metadata": {},
   "source": [
    "# Load the Data"
   ]
  },
  {
   "cell_type": "code",
   "execution_count": 2,
   "id": "89ebf690-8faf-47e9-913b-e6a5172d66ed",
   "metadata": {},
   "outputs": [],
   "source": [
    "# Load the data\n",
    "df = pd.read_csv(\"cleaned_coursera_dataset.csv\")"
   ]
  },
  {
   "cell_type": "code",
   "execution_count": 3,
   "id": "961da7fa",
   "metadata": {},
   "outputs": [
    {
     "data": {
      "text/html": [
       "<div>\n",
       "<style scoped>\n",
       "    .dataframe tbody tr th:only-of-type {\n",
       "        vertical-align: middle;\n",
       "    }\n",
       "\n",
       "    .dataframe tbody tr th {\n",
       "        vertical-align: top;\n",
       "    }\n",
       "\n",
       "    .dataframe thead th {\n",
       "        text-align: right;\n",
       "    }\n",
       "</style>\n",
       "<table border=\"1\" class=\"dataframe\">\n",
       "  <thead>\n",
       "    <tr style=\"text-align: right;\">\n",
       "      <th></th>\n",
       "      <th>Course Title</th>\n",
       "      <th>Rating</th>\n",
       "      <th>Provider</th>\n",
       "      <th>Level</th>\n",
       "      <th>Reviews</th>\n",
       "      <th>Type</th>\n",
       "      <th>Duration / Weeks</th>\n",
       "    </tr>\n",
       "  </thead>\n",
       "  <tbody>\n",
       "  </tbody>\n",
       "</table>\n",
       "</div>"
      ],
      "text/plain": [
       "Empty DataFrame\n",
       "Columns: [Course Title, Rating, Provider, Level, Reviews, Type, Duration / Weeks]\n",
       "Index: []"
      ]
     },
     "execution_count": 3,
     "metadata": {},
     "output_type": "execute_result"
    }
   ],
   "source": [
    "df.head(0)"
   ]
  },
  {
   "cell_type": "code",
   "execution_count": 4,
   "id": "ecaf572c-792d-4152-9459-91ece81d5e55",
   "metadata": {},
   "outputs": [],
   "source": [
    "df.drop('Course Title', axis=1, inplace=True)"
   ]
  },
  {
   "cell_type": "code",
   "execution_count": 5,
   "id": "0d370e7c",
   "metadata": {},
   "outputs": [],
   "source": [
    "df.rename(columns={'Duration / Weeks': 'duration_weeks', 'Type': 'course_type'}, inplace=True)"
   ]
  },
  {
   "cell_type": "code",
   "execution_count": 6,
   "id": "07ff46b4",
   "metadata": {},
   "outputs": [],
   "source": [
    "df.rename(columns={'type': 'course_type'}, inplace=True)"
   ]
  },
  {
   "cell_type": "code",
   "execution_count": 7,
   "id": "71666592",
   "metadata": {},
   "outputs": [],
   "source": [
    "df.columns = df.columns.str.lower()"
   ]
  },
  {
   "cell_type": "code",
   "execution_count": 8,
   "id": "b54edb17",
   "metadata": {},
   "outputs": [
    {
     "data": {
      "text/html": [
       "<div>\n",
       "<style scoped>\n",
       "    .dataframe tbody tr th:only-of-type {\n",
       "        vertical-align: middle;\n",
       "    }\n",
       "\n",
       "    .dataframe tbody tr th {\n",
       "        vertical-align: top;\n",
       "    }\n",
       "\n",
       "    .dataframe thead th {\n",
       "        text-align: right;\n",
       "    }\n",
       "</style>\n",
       "<table border=\"1\" class=\"dataframe\">\n",
       "  <thead>\n",
       "    <tr style=\"text-align: right;\">\n",
       "      <th></th>\n",
       "      <th>rating</th>\n",
       "      <th>provider</th>\n",
       "      <th>level</th>\n",
       "      <th>reviews</th>\n",
       "      <th>course_type</th>\n",
       "      <th>duration_weeks</th>\n",
       "    </tr>\n",
       "  </thead>\n",
       "  <tbody>\n",
       "    <tr>\n",
       "      <th>0</th>\n",
       "      <td>4.8</td>\n",
       "      <td>Google</td>\n",
       "      <td>Beginner</td>\n",
       "      <td>151000.0</td>\n",
       "      <td>Professional Certificate</td>\n",
       "      <td>12 - 24</td>\n",
       "    </tr>\n",
       "    <tr>\n",
       "      <th>1</th>\n",
       "      <td>4.8</td>\n",
       "      <td>Google</td>\n",
       "      <td>Beginner</td>\n",
       "      <td>35000.0</td>\n",
       "      <td>Professional Certificate</td>\n",
       "      <td>12 - 24</td>\n",
       "    </tr>\n",
       "    <tr>\n",
       "      <th>2</th>\n",
       "      <td>4.8</td>\n",
       "      <td>Google</td>\n",
       "      <td>Beginner</td>\n",
       "      <td>112000.0</td>\n",
       "      <td>Professional Certificate</td>\n",
       "      <td>12 - 24</td>\n",
       "    </tr>\n",
       "    <tr>\n",
       "      <th>3</th>\n",
       "      <td>4.8</td>\n",
       "      <td>Google</td>\n",
       "      <td>Beginner</td>\n",
       "      <td>30000.0</td>\n",
       "      <td>Professional Certificate</td>\n",
       "      <td>12 - 24</td>\n",
       "    </tr>\n",
       "    <tr>\n",
       "      <th>4</th>\n",
       "      <td>4.8</td>\n",
       "      <td>Google</td>\n",
       "      <td>Beginner</td>\n",
       "      <td>83000.0</td>\n",
       "      <td>Professional Certificate</td>\n",
       "      <td>12 - 24</td>\n",
       "    </tr>\n",
       "    <tr>\n",
       "      <th>...</th>\n",
       "      <td>...</td>\n",
       "      <td>...</td>\n",
       "      <td>...</td>\n",
       "      <td>...</td>\n",
       "      <td>...</td>\n",
       "      <td>...</td>\n",
       "    </tr>\n",
       "    <tr>\n",
       "      <th>4299</th>\n",
       "      <td>3.9</td>\n",
       "      <td>LearnQuest</td>\n",
       "      <td>Beginner</td>\n",
       "      <td>32.0</td>\n",
       "      <td>Course</td>\n",
       "      <td>1 - 4</td>\n",
       "    </tr>\n",
       "    <tr>\n",
       "      <th>4300</th>\n",
       "      <td>4.8</td>\n",
       "      <td>Autodesk</td>\n",
       "      <td>Intermediate</td>\n",
       "      <td>88.0</td>\n",
       "      <td>Course</td>\n",
       "      <td>1 - 4</td>\n",
       "    </tr>\n",
       "    <tr>\n",
       "      <th>4301</th>\n",
       "      <td>4.4</td>\n",
       "      <td>Digital Marketing Institute</td>\n",
       "      <td>Beginner</td>\n",
       "      <td>62.0</td>\n",
       "      <td>Course</td>\n",
       "      <td>1 - 4</td>\n",
       "    </tr>\n",
       "    <tr>\n",
       "      <th>4302</th>\n",
       "      <td>3.5</td>\n",
       "      <td>Board Infinity</td>\n",
       "      <td>Intermediate</td>\n",
       "      <td>6.0</td>\n",
       "      <td>Course</td>\n",
       "      <td>1 - 4</td>\n",
       "    </tr>\n",
       "    <tr>\n",
       "      <th>4303</th>\n",
       "      <td>4.1</td>\n",
       "      <td>Board Infinity</td>\n",
       "      <td>Intermediate</td>\n",
       "      <td>9.0</td>\n",
       "      <td>Course</td>\n",
       "      <td>1 - 4</td>\n",
       "    </tr>\n",
       "  </tbody>\n",
       "</table>\n",
       "<p>4304 rows × 6 columns</p>\n",
       "</div>"
      ],
      "text/plain": [
       "      rating                     provider         level   reviews  \\\n",
       "0        4.8                       Google      Beginner  151000.0   \n",
       "1        4.8                       Google      Beginner   35000.0   \n",
       "2        4.8                       Google      Beginner  112000.0   \n",
       "3        4.8                       Google      Beginner   30000.0   \n",
       "4        4.8                       Google      Beginner   83000.0   \n",
       "...      ...                          ...           ...       ...   \n",
       "4299     3.9                   LearnQuest      Beginner      32.0   \n",
       "4300     4.8                     Autodesk  Intermediate      88.0   \n",
       "4301     4.4  Digital Marketing Institute      Beginner      62.0   \n",
       "4302     3.5               Board Infinity  Intermediate       6.0   \n",
       "4303     4.1               Board Infinity  Intermediate       9.0   \n",
       "\n",
       "                   course_type duration_weeks  \n",
       "0     Professional Certificate        12 - 24  \n",
       "1     Professional Certificate        12 - 24  \n",
       "2     Professional Certificate        12 - 24  \n",
       "3     Professional Certificate        12 - 24  \n",
       "4     Professional Certificate        12 - 24  \n",
       "...                        ...            ...  \n",
       "4299                    Course          1 - 4  \n",
       "4300                    Course          1 - 4  \n",
       "4301                    Course          1 - 4  \n",
       "4302                    Course          1 - 4  \n",
       "4303                    Course          1 - 4  \n",
       "\n",
       "[4304 rows x 6 columns]"
      ]
     },
     "execution_count": 8,
     "metadata": {},
     "output_type": "execute_result"
    }
   ],
   "source": [
    "df"
   ]
  },
  {
   "cell_type": "code",
   "execution_count": 9,
   "id": "07a1bec0",
   "metadata": {},
   "outputs": [
    {
     "data": {
      "text/plain": [
       "rating            float64\n",
       "provider           object\n",
       "level              object\n",
       "reviews           float64\n",
       "course_type        object\n",
       "duration_weeks     object\n",
       "dtype: object"
      ]
     },
     "execution_count": 9,
     "metadata": {},
     "output_type": "execute_result"
    }
   ],
   "source": [
    "df.dtypes"
   ]
  },
  {
   "cell_type": "markdown",
   "id": "63592d74-ab6a-4585-b8ea-e2f64c16951b",
   "metadata": {},
   "source": [
    "# Preprocessing the Data"
   ]
  },
  {
   "cell_type": "code",
   "execution_count": 10,
   "id": "cfd34788-08aa-4ad9-a1ea-444c9021eeee",
   "metadata": {},
   "outputs": [
    {
     "data": {
      "text/plain": [
       "Index(['provider', 'level', 'course_type', 'duration_weeks'], dtype='object')"
      ]
     },
     "execution_count": 10,
     "metadata": {},
     "output_type": "execute_result"
    }
   ],
   "source": [
    "categorical_features = df.select_dtypes(include=['object']).columns\n",
    "categorical_features"
   ]
  },
  {
   "cell_type": "code",
   "execution_count": 11,
   "id": "8a338101",
   "metadata": {},
   "outputs": [],
   "source": [
    "# Calculate the frequency of each 'Provider'\n",
    "type_counts = df['provider'].value_counts()\n",
    "\n",
    "# Filter 'provider' values that appear 2 or more times\n",
    "df = df[df['provider'].isin(type_counts[type_counts >= 2].index)]"
   ]
  },
  {
   "cell_type": "markdown",
   "id": "24d01615-4a01-49b7-91c5-f3e4b5450ea5",
   "metadata": {},
   "source": [
    "##  Encoding"
   ]
  },
  {
   "cell_type": "markdown",
   "id": "1086c697-6d8c-48c8-8fdb-d04e4bb8c8f9",
   "metadata": {},
   "source": [
    "### Split the rating to 5 categories by quantile"
   ]
  },
  {
   "cell_type": "code",
   "execution_count": 12,
   "id": "776371e8",
   "metadata": {},
   "outputs": [],
   "source": [
    "# creating the train data, a copy of the original\n",
    "df_train = df.copy()"
   ]
  },
  {
   "cell_type": "code",
   "execution_count": 13,
   "id": "48fa6364",
   "metadata": {},
   "outputs": [
    {
     "data": {
      "text/plain": [
       "rating            float64\n",
       "provider           object\n",
       "level              object\n",
       "reviews           float64\n",
       "course_type        object\n",
       "duration_weeks     object\n",
       "dtype: object"
      ]
     },
     "execution_count": 13,
     "metadata": {},
     "output_type": "execute_result"
    }
   ],
   "source": [
    "df_train.dtypes"
   ]
  },
  {
   "cell_type": "code",
   "execution_count": 14,
   "id": "d243a248-0952-41d8-b12a-fec9d082565a",
   "metadata": {},
   "outputs": [],
   "source": [
    "# Saving the categorical features in a list\n",
    "categorical_features = df_train.select_dtypes(include=['object']).columns"
   ]
  },
  {
   "cell_type": "code",
   "execution_count": 15,
   "id": "2f68223a-debe-419c-8722-eeb992561736",
   "metadata": {},
   "outputs": [
    {
     "name": "stdout",
     "output_type": "stream",
     "text": [
      "Label Encoding Mapping provider: {'Advancing Women in Tech': 0, 'Akamai Technologies, Inc.': 1, 'Amazon Web Services': 2, 'American Museum of Natural History': 3, 'American Psychological Association': 4, 'Aptly': 5, 'Arizona State University': 6, 'Arm': 7, 'Atlassian': 8, 'Autodesk': 9, 'Automatic Data Processing, Inc. (ADP)': 10, 'Automation Anywhere': 11, 'Berklee': 12, 'Birla Institute of Technology & Science, Pilani': 13, 'Board Infinity': 14, 'CVS Health': 15, 'California Institute of the Arts': 16, 'Caltech': 17, 'Case Western Reserve University': 18, 'CertNexus': 19, 'Cisco Learning and Certifications': 20, 'Cloudera': 21, 'Codio': 22, 'Columbia University': 23, 'Commonwealth Education Trust': 24, 'CompTIA': 25, 'Copenhagen Business School': 26, 'Corporate Finance Institute': 27, 'Coursera': 28, 'Coursera Instructor Network': 29, 'Dartmouth College': 30, 'Databricks': 31, 'Deep Teaching Solutions': 32, 'DeepLearning.AI': 33, 'Dell': 34, 'Digital Marketing Institute': 35, 'Duke University': 36, 'EC-Council': 37, 'EDHEC Business School': 38, 'EDUCBA': 39, 'EIT Digital': 40, 'ESSEC Business School': 41, 'Edge Impulse': 42, 'Edureka': 43, 'Eindhoven University of Technology': 44, 'Emory University': 45, 'Erasmus University Rotterdam': 46, 'Fortinet, Inc.': 47, 'Fractal Analytics': 48, 'Fundação Instituto de Administração': 49, 'Genentech': 50, 'Georgia Institute of Technology': 51, 'Goodwill Industries International': 52, 'Google': 53, 'Google AR & VR': 54, 'Google Cloud': 55, 'HEC Paris': 56, 'HRCI': 57, 'Hebrew University of Jerusalem': 58, 'Howard University': 59, 'HubSpot Academy': 60, 'IBM': 61, 'IE Business School': 62, 'IESE Business School': 63, 'IIMA - IIM Ahmedabad': 64, 'INSEAD': 65, 'ISAE-SUPAERO': 66, 'ISC2': 67, 'Icahn School of Medicine at Mount Sinai': 68, 'Illinois Tech': 69, 'Imperial College London': 70, 'Indian Institute for Human Settlements': 71, 'Indian School of Business': 72, 'Infosec': 73, 'Institut Mines-Télécom': 74, 'Institute for the Future': 75, 'Intel': 76, 'Interactive Brokers': 77, 'Intuit': 78, 'Johns Hopkins University': 79, 'Keller Williams': 80, 'Kennesaw State University': 81, 'Khalifa University': 82, 'Knowledge Accelerators': 83, 'Korea Advanced Institute of Science and Technology(KAIST)': 84, 'L&T EduTech': 85, 'LearnKartS': 86, 'LearnQuest': 87, 'London Business School': 88, 'Ludwig-Maximilians-Universität München (LMU)': 89, 'Lund University': 90, 'Macquarie University': 91, 'MathWorks': 92, 'McMaster University': 93, 'MedCerts': 94, 'Meta': 95, 'Michigan State University': 96, 'Microsoft': 97, 'Multiple educators': 98, 'NVIDIA': 99, 'Nanjing University': 100, 'Nanyang Technological University, Singapore': 101, 'National Academy of Sports Medicine': 102, 'National Taiwan University': 103, 'National University of Singapore': 104, 'New York Institute of Finance': 105, 'New York University': 106, 'Northeastern University': 107, 'Northwestern University': 108, 'Novartis': 109, 'O.P. Jindal Global University': 110, 'Olay': 111, 'Oracle': 112, 'Palo Alto Networks': 113, 'Parsons School of Design, The New School': 114, 'Peking University': 115, 'Pohang University of Science and Technology(POSTECH)': 116, 'Politecnico di Milano': 117, 'Pontificia Universidad Católica de Chile': 118, 'PwC': 119, 'PwC India': 120, 'Queen Mary University of London': 121, 'Red Hat': 122, 'Rice University': 123, 'Royal Holloway, University of London': 124, 'Rutgers the State University of New Jersey': 125, 'SAP': 126, 'SAS': 127, 'Salesforce': 128, 'Sciences Po': 129, 'Scrimba': 130, 'Shanghai Jiao Tong University': 131, 'Siemens': 132, 'SkillUp EdTech': 133, 'SoFi': 134, 'Splunk Inc.': 135, 'Stanford University': 136, 'Starweaver': 137, 'Sungkyunkwan University': 138, 'Tableau Learning Partner': 139, 'Tally Education and Distribution Services Private Limited': 140, 'Technical University of Denmark (DTU)': 141, 'Technical University of Munich (TUM)': 142, 'Technion - Israel Institute of Technology': 143, 'Tecnológico de Monterrey': 144, 'Tel Aviv University': 145, 'The Chinese University of Hong Kong': 146, 'The George Washington University': 147, 'The Hong Kong University of Science and Technology': 148, 'The Linux Foundation': 149, 'The Museum of Modern Art': 150, 'The Pennsylvania State University': 151, 'The State University of New York': 152, 'The University of Chicago': 153, 'The University of Edinburgh': 154, 'The University of Hong Kong': 155, 'The University of Melbourne': 156, 'The University of North Carolina at Chapel Hill': 157, 'The University of Sydney': 158, 'The University of Tokyo': 159, 'Tsinghua University': 160, 'UNSW Sydney (The University of New South Wales)': 161, 'UiPath': 162, 'Unilever': 163, 'Universidad de Palermo': 164, 'Universitat Autònoma de Barcelona': 165, 'Universitat de Barcelona': 166, 'Universiteit Leiden': 167, 'University at Buffalo': 168, 'University of Alberta': 169, 'University of Amsterdam': 170, 'University of Arizona': 171, 'University of California San Diego': 172, 'University of California, Davis': 173, 'University of California, Irvine': 174, 'University of California, Santa Cruz': 175, 'University of Cape Town': 176, 'University of Colorado Boulder': 177, 'University of Colorado System': 178, 'University of Copenhagen': 179, 'University of Florida': 180, 'University of Geneva': 181, 'University of Glasgow': 182, 'University of Houston': 183, 'University of Illinois Urbana-Champaign': 184, 'University of Lausanne': 185, 'University of Leeds': 186, 'University of London': 187, 'University of Manchester': 188, 'University of Maryland, College Park': 189, 'University of Michigan': 190, 'University of Minnesota': 191, 'University of New Mexico': 192, 'University of North Texas': 193, 'University of Pennsylvania': 194, 'University of Pittsburgh': 195, 'University of Rochester': 196, 'University of Toronto': 197, 'University of Virginia': 198, 'University of Virginia Darden School Foundation': 199, 'University of Washington': 200, 'University of Western Australia': 201, 'University of Zurich': 202, 'Università Bocconi': 203, 'Università di Napoli Federico II': 204, 'Utrecht University': 205, 'Vanderbilt University': 206, 'Voxy': 207, 'Wesleyan University': 208, 'West Virginia University': 209, 'Whizlabs': 210, 'Yale University': 211, 'Yonsei University': 212, 'École Polytechnique': 213, 'École Polytechnique Fédérale de Lausanne': 214, 'École des Ponts ParisTech': 215}\n",
      "Label Encoding Mapping level: {'Advanced': 0, 'Beginner': 1, 'Intermediate': 2, 'Mixed': 3}\n",
      "Label Encoding Mapping course_type: {'Course': 0, 'Professional Certificate': 1, 'Specialization': 2}\n",
      "Label Encoding Mapping duration_weeks: {'1 - 4': 0, '12 - 24': 1, '4 - 12': 2}\n"
     ]
    }
   ],
   "source": [
    "encoder = LabelEncoder()\n",
    "\n",
    "# Initialize the LabelEncoder\n",
    "label_encoder = LabelEncoder()\n",
    "\n",
    "# Apply Label Encoding on each categorical feature\n",
    "for col in categorical_features:\n",
    "    df_train[col] = label_encoder.fit_transform(df_train[col])\n",
    "\n",
    "    # Get the mapping of labels\n",
    "    label_mapping = dict(zip(label_encoder.classes_, label_encoder.transform(label_encoder.classes_)))\n",
    "\n",
    "    # Print out the mappings and their labels\n",
    "    print(f\"Label Encoding Mapping {col}: {label_mapping}\")"
   ]
  },
  {
   "cell_type": "code",
   "execution_count": 16,
   "id": "8def1172",
   "metadata": {},
   "outputs": [
    {
     "data": {
      "text/plain": [
       "Index(['provider', 'level', 'course_type', 'duration_weeks'], dtype='object')"
      ]
     },
     "execution_count": 16,
     "metadata": {},
     "output_type": "execute_result"
    }
   ],
   "source": [
    "categorical_features"
   ]
  },
  {
   "cell_type": "markdown",
   "id": "16e76dbe",
   "metadata": {},
   "source": [
    "# Building and Training the model"
   ]
  },
  {
   "cell_type": "code",
   "execution_count": 17,
   "id": "db123c57-f9ab-4675-b34a-95c44033c044",
   "metadata": {},
   "outputs": [],
   "source": [
    "wcss = []\n",
    "for i in range(2, 20):  \n",
    "    kmeans = KMeans(n_clusters=i,\n",
    "                    init='k-means++',\n",
    "                    max_iter=300,\n",
    "                    n_init=10,\n",
    "                    random_state=0)\n",
    "    kmeans.fit(df_train)\n",
    "    wcss.append(kmeans.inertia_)"
   ]
  },
  {
   "cell_type": "code",
   "execution_count": 18,
   "id": "315dff3b-47b9-49c6-81f6-5dd4b235e287",
   "metadata": {},
   "outputs": [
    {
     "data": {
      "image/png": "[encoded data removed]",
      "text/plain": [
       "<Figure size 1000x600 with 1 Axes>"
      ]
     },
     "metadata": {},
     "output_type": "display_data"
    }
   ],
   "source": [
    "plt.figure(figsize=(10, 6))\n",
    "plt.plot(range(2, 20), wcss,  marker='o', linestyle='-', color='b')\n",
    "plt.title('Elbow Method')\n",
    "plt.xlabel('Number of clusters')\n",
    "plt.ylabel('WCSS')\n",
    "plt.grid(True)\n",
    "plt.show()"
   ]
  },
  {
   "cell_type": "code",
   "execution_count": 19,
   "id": "5b14e0d6-0900-44e6-a64a-c1f4a4a95438",
   "metadata": {},
   "outputs": [],
   "source": [
    "# Building the KMeans Model\n",
    "optimal_clusters = 5\n",
    "\n",
    "# Initialize and train the KMeans model\n",
    "best_kmeans = KMeans(n_clusters=optimal_clusters, init='k-means++', max_iter=300, n_init=10, random_state=42)\n"
   ]
  },
  {
   "cell_type": "code",
   "execution_count": 20,
   "id": "6cccc20f",
   "metadata": {},
   "outputs": [],
   "source": [
    "# predict\n",
    "x_kmeans = best_kmeans.fit_predict(df_train)"
   ]
  },
  {
   "cell_type": "markdown",
   "id": "732da4b5-16e9-40e6-ae87-51568cc966ae",
   "metadata": {},
   "source": [
    "# evaluate model"
   ]
  },
  {
   "cell_type": "code",
   "execution_count": 21,
   "id": "0a9bdc46",
   "metadata": {},
   "outputs": [
    {
     "name": "stdout",
     "output_type": "stream",
     "text": [
      "Silhouette Score: 0.8804203669235499\n",
      "Davies-Bouldin Index: 0.43709232974776835\n"
     ]
    }
   ],
   "source": [
    "# Calculate the silhouette score, closer to 1 is better\n",
    "silhouette_avg = silhouette_score(df_train, best_kmeans.labels_)\n",
    "\n",
    "# Davies-Bouldin Index to evaluate clustering quality.\n",
    "# Lower values indicate better separation between the clusters.\n",
    "db_index = davies_bouldin_score(df_train, best_kmeans.labels_)\n",
    "\n",
    "print(\"Silhouette Score:\", silhouette_avg)\n",
    "print(\"Davies-Bouldin Index:\", db_index)\n"
   ]
  },
  {
   "cell_type": "code",
   "execution_count": 22,
   "id": "a0ae7c2b",
   "metadata": {},
   "outputs": [
    {
     "name": "stdout",
     "output_type": "stream",
     "text": [
      "Inertia: 30667893238.647186\n"
     ]
    }
   ],
   "source": [
    "inertia = best_kmeans.inertia_\n",
    "print(\"Inertia:\", inertia)\n"
   ]
  },
  {
   "cell_type": "code",
   "execution_count": 23,
   "id": "81a62205",
   "metadata": {},
   "outputs": [
    {
     "data": {
      "text/plain": [
       "Index(['rating', 'provider', 'level', 'reviews', 'course_type',\n",
       "       'duration_weeks'],\n",
       "      dtype='object')"
      ]
     },
     "execution_count": 23,
     "metadata": {},
     "output_type": "execute_result"
    }
   ],
   "source": [
    "df_train.columns"
   ]
  },
  {
   "cell_type": "code",
   "execution_count": 24,
   "id": "3c07f2ca",
   "metadata": {},
   "outputs": [
    {
     "data": {
      "image/png": "[encoded data removed]",
      "text/plain": [
       "<Figure size 640x480 with 1 Axes>"
      ]
     },
     "metadata": {},
     "output_type": "display_data"
    }
   ],
   "source": [
    "plt.scatter(df_train['rating'], df_train['reviews'], c=best_kmeans.labels_, cmap='rainbow')\n",
    "plt.scatter(best_kmeans.cluster_centers_[:, 0], best_kmeans.cluster_centers_[:, 3], s=200, c='black', marker='X')\n",
    "plt.title('K-Means Clustering')\n",
    "plt.xlabel('Rating')\n",
    "plt.ylabel('Number of Reviews')\n",
    "plt.show()\n"
   ]
  },
  {
   "cell_type": "markdown",
   "id": "7c364d02",
   "metadata": {},
   "source": [
    "# Predictions"
   ]
  },
  {
   "cell_type": "code",
   "execution_count": 25,
   "id": "d1516ce3",
   "metadata": {},
   "outputs": [
    {
     "data": {
      "text/plain": [
       "Index(['rating', 'provider', 'level', 'reviews', 'course_type',\n",
       "       'duration_weeks'],\n",
       "      dtype='object')"
      ]
     },
     "execution_count": 25,
     "metadata": {},
     "output_type": "execute_result"
    }
   ],
   "source": [
    "df_train.columns"
   ]
  },
  {
   "cell_type": "markdown",
   "id": "4ec20c42",
   "metadata": {},
   "source": [
    "- level: {'Advanced': 0, 'Beginner': 1, 'Intermediate': 2, 'Mixed': 3}\n",
    "- course_type: {'Course': 0, 'Professional Certificate': 1, 'Specialization': 2}\n",
    "- duration_weeks: {'1 - 4': 0, '12 - 24': 1, '4 - 12': 2}"
   ]
  },
  {
   "cell_type": "code",
   "execution_count": 26,
   "id": "c11aafe1",
   "metadata": {},
   "outputs": [
    {
     "name": "stdout",
     "output_type": "stream",
     "text": [
      "Predicted clusters for new data: [3]\n"
     ]
    }
   ],
   "source": [
    "rating = 5\n",
    "provider = 5\n",
    "level = 1\n",
    "reviews = 250000\n",
    "course_type = 2\n",
    "duration = 2\n",
    "\n",
    "new_data = [[rating, provider, level, reviews, course_type, duration]]  # Replace with your new data points\n",
    "predictions = best_kmeans.predict(new_data)\n",
    "print(\"Predicted clusters for new data:\", predictions)\n"
   ]
  },
  {
   "cell_type": "code",
   "execution_count": 40,
   "id": "e745bd40",
   "metadata": {},
   "outputs": [
    {
     "data": {
      "text/plain": [
       "list"
      ]
     },
     "execution_count": 40,
     "metadata": {},
     "output_type": "execute_result"
    }
   ],
   "source": [
    "type(new_data)"
   ]
  },
  {
   "cell_type": "markdown",
   "id": "9a844564-73ff-403e-b977-ba65a99b1cc9",
   "metadata": {},
   "source": [
    "# Clusters Distribution"
   ]
  },
  {
   "cell_type": "code",
   "execution_count": 27,
   "id": "4fe7a63e",
   "metadata": {},
   "outputs": [],
   "source": [
    "df_train['Cluster'] = best_kmeans.labels_"
   ]
  },
  {
   "cell_type": "code",
   "execution_count": 28,
   "id": "951e0ae7",
   "metadata": {},
   "outputs": [],
   "source": [
    "cluster_0 = df[df_train['Cluster'] == 0]\n",
    "cluster_1 = df[df_train['Cluster'] == 1]\n",
    "cluster_2 = df[df_train['Cluster'] == 2]\n",
    "cluster_3 = df[df_train['Cluster'] == 3]\n",
    "cluster_4 = df[df_train['Cluster'] == 4]"
   ]
  },
  {
   "cell_type": "code",
   "execution_count": 29,
   "id": "d9fd683c",
   "metadata": {},
   "outputs": [
    {
     "data": {
      "text/plain": [
       "(4025, 6)"
      ]
     },
     "execution_count": 29,
     "metadata": {},
     "output_type": "execute_result"
    }
   ],
   "source": [
    "cluster_0.shape"
   ]
  },
  {
   "cell_type": "code",
   "execution_count": 30,
   "id": "16270b67",
   "metadata": {},
   "outputs": [
    {
     "data": {
      "text/plain": [
       "(16, 6)"
      ]
     },
     "execution_count": 30,
     "metadata": {},
     "output_type": "execute_result"
    }
   ],
   "source": [
    "cluster_1.shape"
   ]
  },
  {
   "cell_type": "code",
   "execution_count": 31,
   "id": "466319c2",
   "metadata": {},
   "outputs": [
    {
     "data": {
      "text/plain": [
       "(47, 6)"
      ]
     },
     "execution_count": 31,
     "metadata": {},
     "output_type": "execute_result"
    }
   ],
   "source": [
    "cluster_2.shape"
   ]
  },
  {
   "cell_type": "code",
   "execution_count": 32,
   "id": "08850a33",
   "metadata": {},
   "outputs": [
    {
     "data": {
      "text/plain": [
       "(3, 6)"
      ]
     },
     "execution_count": 32,
     "metadata": {},
     "output_type": "execute_result"
    }
   ],
   "source": [
    "cluster_3.shape"
   ]
  },
  {
   "cell_type": "code",
   "execution_count": 33,
   "id": "191df71b",
   "metadata": {},
   "outputs": [
    {
     "data": {
      "text/plain": [
       "(171, 6)"
      ]
     },
     "execution_count": 33,
     "metadata": {},
     "output_type": "execute_result"
    }
   ],
   "source": [
    "cluster_4.shape"
   ]
  },
  {
   "cell_type": "code",
   "execution_count": 34,
   "id": "a8f1f839",
   "metadata": {},
   "outputs": [
    {
     "data": {
      "text/plain": [
       "880.5873291925466"
      ]
     },
     "execution_count": 34,
     "metadata": {},
     "output_type": "execute_result"
    }
   ],
   "source": [
    "cluster_0['reviews'].mean()"
   ]
  },
  {
   "cell_type": "code",
   "execution_count": 35,
   "id": "5c403a07",
   "metadata": {},
   "outputs": [
    {
     "data": {
      "text/plain": [
       "15076.608187134503"
      ]
     },
     "execution_count": 35,
     "metadata": {},
     "output_type": "execute_result"
    }
   ],
   "source": [
    "cluster_4['reviews'].mean()"
   ]
  },
  {
   "cell_type": "code",
   "execution_count": 36,
   "id": "4d5f45b2",
   "metadata": {},
   "outputs": [
    {
     "data": {
      "text/plain": [
       "47382.97872340425"
      ]
     },
     "execution_count": 36,
     "metadata": {},
     "output_type": "execute_result"
    }
   ],
   "source": [
    "cluster_2['reviews'].mean()"
   ]
  },
  {
   "cell_type": "code",
   "execution_count": 37,
   "id": "c7f89a45",
   "metadata": {},
   "outputs": [
    {
     "data": {
      "text/plain": [
       "106750.0"
      ]
     },
     "execution_count": 37,
     "metadata": {},
     "output_type": "execute_result"
    }
   ],
   "source": [
    "cluster_1['reviews'].mean()"
   ]
  },
  {
   "cell_type": "code",
   "execution_count": 38,
   "id": "10c42fd8",
   "metadata": {},
   "outputs": [
    {
     "data": {
      "text/plain": [
       "230666.66666666666"
      ]
     },
     "execution_count": 38,
     "metadata": {},
     "output_type": "execute_result"
    }
   ],
   "source": [
    "cluster_3['reviews'].mean()"
   ]
  },
  {
   "cell_type": "markdown",
   "id": "96ae41d3",
   "metadata": {},
   "source": [
    "- Cluster 0 = very low\n",
    "- Cluster 4 = low\n",
    "- Cluster 2 = medium\n",
    "- Cluster 1 = high\n",
    "- Cluster 3 = very high"
   ]
  },
  {
   "cell_type": "code",
   "execution_count": 39,
   "id": "d57a9be7",
   "metadata": {},
   "outputs": [
    {
     "data": {
      "text/plain": [
       "['kmens_scaler.joblib']"
      ]
     },
     "execution_count": 39,
     "metadata": {},
     "output_type": "execute_result"
    }
   ],
   "source": [
    "import joblib\n",
    "joblib.dump(best_kmeans, 'kmens_model.joblib')\n",
    "joblib.dump(label_encoder, 'kmens_scaler.joblib')"
   ]
  },
  {
   "cell_type": "code",
   "execution_count": null,
   "id": "5c4c9e62",
   "metadata": {},
   "outputs": [],
   "source": []
  }
 ],
 "metadata": {
  "kernelspec": {
   "display_name": "Python 3 (ipykernel)",
   "language": "python",
   "name": "python3"
  },
  "language_info": {
   "codemirror_mode": {
    "name": "ipython",
    "version": 3
   },
   "file_extension": ".py",
   "mimetype": "text/x-python",
   "name": "python",
   "nbconvert_exporter": "python",
   "pygments_lexer": "ipython3",
   "version": "3.11.5"
  }
 },
 "nbformat": 4,
 "nbformat_minor": 5
}
